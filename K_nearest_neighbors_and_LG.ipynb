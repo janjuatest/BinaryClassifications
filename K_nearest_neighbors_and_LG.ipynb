{
  "nbformat": 4,
  "nbformat_minor": 0,
  "metadata": {
    "kernelspec": {
      "display_name": "Python 3",
      "language": "python",
      "name": "python3"
    },
    "language_info": {
      "codemirror_mode": {
        "name": "ipython",
        "version": 3
      },
      "file_extension": ".py",
      "mimetype": "text/x-python",
      "name": "python",
      "nbconvert_exporter": "python",
      "pygments_lexer": "ipython3",
      "version": "3.7.4"
    },
    "colab": {
      "name": "K_nearest_neighbors and LG.ipynb",
      "provenance": [],
      "collapsed_sections": [],
      "include_colab_link": true
    }
  },
  "cells": [
    {
      "cell_type": "markdown",
      "metadata": {
        "id": "view-in-github",
        "colab_type": "text"
      },
      "source": [
        "<a href=\"https://colab.research.google.com/github/janjuatest/BinaryClassifications/blob/main/K_nearest_neighbors_and_LG.ipynb\" target=\"_parent\"><img src=\"https://colab.research.google.com/assets/colab-badge.svg\" alt=\"Open In Colab\"/></a>"
      ]
    },
    {
      "cell_type": "code",
      "metadata": {
        "id": "-jAxKjZ-rxMU"
      },
      "source": [
        "import numpy as np\n",
        "import pandas as pd\n",
        "import matplotlib.pyplot as plt\n",
        "import seaborn as sns\n",
        "%matplotlib inline"
      ],
      "execution_count": 1,
      "outputs": []
    },
    {
      "cell_type": "code",
      "metadata": {
        "id": "8Vjm1RHPrxMm"
      },
      "source": [
        "df=pd.read_csv('KNN_Project_Data')"
      ],
      "execution_count": 2,
      "outputs": []
    },
    {
      "cell_type": "markdown",
      "metadata": {
        "id": "F1c0E9o7sd7q"
      },
      "source": [
        "Read the file"
      ]
    },
    {
      "cell_type": "code",
      "metadata": {
        "colab": {
          "base_uri": "https://localhost:8080/",
          "height": 241
        },
        "id": "zr6iTB89rxMn",
        "outputId": "35827ece-2b9b-4d7d-b24e-31f9f8c140c8"
      },
      "source": [
        "df.head()"
      ],
      "execution_count": 3,
      "outputs": [
        {
          "output_type": "execute_result",
          "data": {
            "text/html": [
              "<div>\n",
              "<style scoped>\n",
              "    .dataframe tbody tr th:only-of-type {\n",
              "        vertical-align: middle;\n",
              "    }\n",
              "\n",
              "    .dataframe tbody tr th {\n",
              "        vertical-align: top;\n",
              "    }\n",
              "\n",
              "    .dataframe thead th {\n",
              "        text-align: right;\n",
              "    }\n",
              "</style>\n",
              "<table border=\"1\" class=\"dataframe\">\n",
              "  <thead>\n",
              "    <tr style=\"text-align: right;\">\n",
              "      <th></th>\n",
              "      <th>XVPM</th>\n",
              "      <th>GWYH</th>\n",
              "      <th>TRAT</th>\n",
              "      <th>TLLZ</th>\n",
              "      <th>IGGA</th>\n",
              "      <th>HYKR</th>\n",
              "      <th>EDFS</th>\n",
              "      <th>GUUB</th>\n",
              "      <th>MGJM</th>\n",
              "      <th>JHZC</th>\n",
              "      <th>TARGET CLASS</th>\n",
              "    </tr>\n",
              "  </thead>\n",
              "  <tbody>\n",
              "    <tr>\n",
              "      <th>0</th>\n",
              "      <td>1636.670614</td>\n",
              "      <td>817.988525</td>\n",
              "      <td>2565.995189</td>\n",
              "      <td>358.347163</td>\n",
              "      <td>550.417491</td>\n",
              "      <td>1618.870897</td>\n",
              "      <td>2147.641254</td>\n",
              "      <td>330.727893</td>\n",
              "      <td>1494.878631</td>\n",
              "      <td>845.136088</td>\n",
              "      <td>0</td>\n",
              "    </tr>\n",
              "    <tr>\n",
              "      <th>1</th>\n",
              "      <td>1013.402760</td>\n",
              "      <td>577.587332</td>\n",
              "      <td>2644.141273</td>\n",
              "      <td>280.428203</td>\n",
              "      <td>1161.873391</td>\n",
              "      <td>2084.107872</td>\n",
              "      <td>853.404981</td>\n",
              "      <td>447.157619</td>\n",
              "      <td>1193.032521</td>\n",
              "      <td>861.081809</td>\n",
              "      <td>1</td>\n",
              "    </tr>\n",
              "    <tr>\n",
              "      <th>2</th>\n",
              "      <td>1300.035501</td>\n",
              "      <td>820.518697</td>\n",
              "      <td>2025.854469</td>\n",
              "      <td>525.562292</td>\n",
              "      <td>922.206261</td>\n",
              "      <td>2552.355407</td>\n",
              "      <td>818.676686</td>\n",
              "      <td>845.491492</td>\n",
              "      <td>1968.367513</td>\n",
              "      <td>1647.186291</td>\n",
              "      <td>1</td>\n",
              "    </tr>\n",
              "    <tr>\n",
              "      <th>3</th>\n",
              "      <td>1059.347542</td>\n",
              "      <td>1066.866418</td>\n",
              "      <td>612.000041</td>\n",
              "      <td>480.827789</td>\n",
              "      <td>419.467495</td>\n",
              "      <td>685.666983</td>\n",
              "      <td>852.867810</td>\n",
              "      <td>341.664784</td>\n",
              "      <td>1154.391368</td>\n",
              "      <td>1450.935357</td>\n",
              "      <td>0</td>\n",
              "    </tr>\n",
              "    <tr>\n",
              "      <th>4</th>\n",
              "      <td>1018.340526</td>\n",
              "      <td>1313.679056</td>\n",
              "      <td>950.622661</td>\n",
              "      <td>724.742174</td>\n",
              "      <td>843.065903</td>\n",
              "      <td>1370.554164</td>\n",
              "      <td>905.469453</td>\n",
              "      <td>658.118202</td>\n",
              "      <td>539.459350</td>\n",
              "      <td>1899.850792</td>\n",
              "      <td>0</td>\n",
              "    </tr>\n",
              "  </tbody>\n",
              "</table>\n",
              "</div>"
            ],
            "text/plain": [
              "          XVPM         GWYH  ...         JHZC  TARGET CLASS\n",
              "0  1636.670614   817.988525  ...   845.136088             0\n",
              "1  1013.402760   577.587332  ...   861.081809             1\n",
              "2  1300.035501   820.518697  ...  1647.186291             1\n",
              "3  1059.347542  1066.866418  ...  1450.935357             0\n",
              "4  1018.340526  1313.679056  ...  1899.850792             0\n",
              "\n",
              "[5 rows x 11 columns]"
            ]
          },
          "metadata": {
            "tags": []
          },
          "execution_count": 3
        }
      ]
    },
    {
      "cell_type": "code",
      "metadata": {
        "colab": {
          "base_uri": "https://localhost:8080/",
          "height": 334
        },
        "id": "NKbeHZAurxMp",
        "outputId": "7f18f36f-adf0-4065-c9e4-c35d454eadb1"
      },
      "source": [
        "df.describe()"
      ],
      "execution_count": 4,
      "outputs": [
        {
          "output_type": "execute_result",
          "data": {
            "text/html": [
              "<div>\n",
              "<style scoped>\n",
              "    .dataframe tbody tr th:only-of-type {\n",
              "        vertical-align: middle;\n",
              "    }\n",
              "\n",
              "    .dataframe tbody tr th {\n",
              "        vertical-align: top;\n",
              "    }\n",
              "\n",
              "    .dataframe thead th {\n",
              "        text-align: right;\n",
              "    }\n",
              "</style>\n",
              "<table border=\"1\" class=\"dataframe\">\n",
              "  <thead>\n",
              "    <tr style=\"text-align: right;\">\n",
              "      <th></th>\n",
              "      <th>XVPM</th>\n",
              "      <th>GWYH</th>\n",
              "      <th>TRAT</th>\n",
              "      <th>TLLZ</th>\n",
              "      <th>IGGA</th>\n",
              "      <th>HYKR</th>\n",
              "      <th>EDFS</th>\n",
              "      <th>GUUB</th>\n",
              "      <th>MGJM</th>\n",
              "      <th>JHZC</th>\n",
              "      <th>TARGET CLASS</th>\n",
              "    </tr>\n",
              "  </thead>\n",
              "  <tbody>\n",
              "    <tr>\n",
              "      <th>count</th>\n",
              "      <td>1000.000000</td>\n",
              "      <td>1000.000000</td>\n",
              "      <td>1000.000000</td>\n",
              "      <td>1000.000000</td>\n",
              "      <td>1000.000000</td>\n",
              "      <td>1000.000000</td>\n",
              "      <td>1000.000000</td>\n",
              "      <td>1000.000000</td>\n",
              "      <td>1000.000000</td>\n",
              "      <td>1000.000000</td>\n",
              "      <td>1000.00000</td>\n",
              "    </tr>\n",
              "    <tr>\n",
              "      <th>mean</th>\n",
              "      <td>1055.071157</td>\n",
              "      <td>991.851567</td>\n",
              "      <td>1529.373525</td>\n",
              "      <td>495.107156</td>\n",
              "      <td>940.590072</td>\n",
              "      <td>1550.637455</td>\n",
              "      <td>1561.003252</td>\n",
              "      <td>561.346117</td>\n",
              "      <td>1089.067338</td>\n",
              "      <td>1452.521629</td>\n",
              "      <td>0.50000</td>\n",
              "    </tr>\n",
              "    <tr>\n",
              "      <th>std</th>\n",
              "      <td>370.980193</td>\n",
              "      <td>392.278890</td>\n",
              "      <td>640.286092</td>\n",
              "      <td>142.789188</td>\n",
              "      <td>345.923136</td>\n",
              "      <td>493.491988</td>\n",
              "      <td>598.608517</td>\n",
              "      <td>247.357552</td>\n",
              "      <td>402.666953</td>\n",
              "      <td>568.132005</td>\n",
              "      <td>0.50025</td>\n",
              "    </tr>\n",
              "    <tr>\n",
              "      <th>min</th>\n",
              "      <td>21.170000</td>\n",
              "      <td>21.720000</td>\n",
              "      <td>31.800000</td>\n",
              "      <td>8.450000</td>\n",
              "      <td>17.930000</td>\n",
              "      <td>27.930000</td>\n",
              "      <td>31.960000</td>\n",
              "      <td>13.520000</td>\n",
              "      <td>23.210000</td>\n",
              "      <td>30.890000</td>\n",
              "      <td>0.00000</td>\n",
              "    </tr>\n",
              "    <tr>\n",
              "      <th>25%</th>\n",
              "      <td>767.413366</td>\n",
              "      <td>694.859326</td>\n",
              "      <td>1062.600806</td>\n",
              "      <td>401.788135</td>\n",
              "      <td>700.763295</td>\n",
              "      <td>1219.267077</td>\n",
              "      <td>1132.097865</td>\n",
              "      <td>381.704293</td>\n",
              "      <td>801.849802</td>\n",
              "      <td>1059.499689</td>\n",
              "      <td>0.00000</td>\n",
              "    </tr>\n",
              "    <tr>\n",
              "      <th>50%</th>\n",
              "      <td>1045.904805</td>\n",
              "      <td>978.355081</td>\n",
              "      <td>1522.507269</td>\n",
              "      <td>500.197421</td>\n",
              "      <td>939.348662</td>\n",
              "      <td>1564.996551</td>\n",
              "      <td>1565.882879</td>\n",
              "      <td>540.420379</td>\n",
              "      <td>1099.087954</td>\n",
              "      <td>1441.554053</td>\n",
              "      <td>0.50000</td>\n",
              "    </tr>\n",
              "    <tr>\n",
              "      <th>75%</th>\n",
              "      <td>1326.065178</td>\n",
              "      <td>1275.528770</td>\n",
              "      <td>1991.128626</td>\n",
              "      <td>600.525709</td>\n",
              "      <td>1182.578166</td>\n",
              "      <td>1891.937040</td>\n",
              "      <td>1981.739411</td>\n",
              "      <td>725.762027</td>\n",
              "      <td>1369.923665</td>\n",
              "      <td>1864.405512</td>\n",
              "      <td>1.00000</td>\n",
              "    </tr>\n",
              "    <tr>\n",
              "      <th>max</th>\n",
              "      <td>2117.000000</td>\n",
              "      <td>2172.000000</td>\n",
              "      <td>3180.000000</td>\n",
              "      <td>845.000000</td>\n",
              "      <td>1793.000000</td>\n",
              "      <td>2793.000000</td>\n",
              "      <td>3196.000000</td>\n",
              "      <td>1352.000000</td>\n",
              "      <td>2321.000000</td>\n",
              "      <td>3089.000000</td>\n",
              "      <td>1.00000</td>\n",
              "    </tr>\n",
              "  </tbody>\n",
              "</table>\n",
              "</div>"
            ],
            "text/plain": [
              "              XVPM         GWYH  ...         JHZC  TARGET CLASS\n",
              "count  1000.000000  1000.000000  ...  1000.000000    1000.00000\n",
              "mean   1055.071157   991.851567  ...  1452.521629       0.50000\n",
              "std     370.980193   392.278890  ...   568.132005       0.50025\n",
              "min      21.170000    21.720000  ...    30.890000       0.00000\n",
              "25%     767.413366   694.859326  ...  1059.499689       0.00000\n",
              "50%    1045.904805   978.355081  ...  1441.554053       0.50000\n",
              "75%    1326.065178  1275.528770  ...  1864.405512       1.00000\n",
              "max    2117.000000  2172.000000  ...  3089.000000       1.00000\n",
              "\n",
              "[8 rows x 11 columns]"
            ]
          },
          "metadata": {
            "tags": []
          },
          "execution_count": 4
        }
      ]
    },
    {
      "cell_type": "markdown",
      "metadata": {
        "id": "Cenp_Tzesb0H"
      },
      "source": [
        "Stats for the columns"
      ]
    },
    {
      "cell_type": "code",
      "metadata": {
        "colab": {
          "base_uri": "https://localhost:8080/"
        },
        "id": "mI23LuGYrxMq",
        "outputId": "d7140fef-75c1-4ac0-aca3-7f1b7808fdd9"
      },
      "source": [
        "df.info()"
      ],
      "execution_count": 5,
      "outputs": [
        {
          "output_type": "stream",
          "text": [
            "<class 'pandas.core.frame.DataFrame'>\n",
            "RangeIndex: 1000 entries, 0 to 999\n",
            "Data columns (total 11 columns):\n",
            " #   Column        Non-Null Count  Dtype  \n",
            "---  ------        --------------  -----  \n",
            " 0   XVPM          1000 non-null   float64\n",
            " 1   GWYH          1000 non-null   float64\n",
            " 2   TRAT          1000 non-null   float64\n",
            " 3   TLLZ          1000 non-null   float64\n",
            " 4   IGGA          1000 non-null   float64\n",
            " 5   HYKR          1000 non-null   float64\n",
            " 6   EDFS          1000 non-null   float64\n",
            " 7   GUUB          1000 non-null   float64\n",
            " 8   MGJM          1000 non-null   float64\n",
            " 9   JHZC          1000 non-null   float64\n",
            " 10  TARGET CLASS  1000 non-null   int64  \n",
            "dtypes: float64(10), int64(1)\n",
            "memory usage: 86.1 KB\n"
          ],
          "name": "stdout"
        }
      ]
    },
    {
      "cell_type": "markdown",
      "metadata": {
        "id": "TNyuoczkspd3"
      },
      "source": [
        "We have 10 data columns and 1 column for target class"
      ]
    },
    {
      "cell_type": "code",
      "metadata": {
        "colab": {
          "base_uri": "https://localhost:8080/",
          "height": 350
        },
        "id": "jZm9dbncrxMq",
        "outputId": "16d97be5-9479-48a9-ade0-019295d7053b"
      },
      "source": [
        "sns.heatmap(df.isnull())"
      ],
      "execution_count": 7,
      "outputs": [
        {
          "output_type": "execute_result",
          "data": {
            "text/plain": [
              "<matplotlib.axes._subplots.AxesSubplot at 0x7f7e2ef01ba8>"
            ]
          },
          "metadata": {
            "tags": []
          },
          "execution_count": 7
        },
        {
          "output_type": "display_data",
          "data": {
            "image/png": "[encoded data removed]",
            "text/plain": [
              "<Figure size 432x288 with 2 Axes>"
            ]
          },
          "metadata": {
            "tags": [],
            "needs_background": "light"
          }
        }
      ]
    },
    {
      "cell_type": "code",
      "metadata": {
        "colab": {
          "base_uri": "https://localhost:8080/"
        },
        "id": "yAZ0FQMkrxMr",
        "outputId": "219c9505-fdf9-4544-fe63-b580ea23ff46"
      },
      "source": [
        "df['TARGET CLASS'].value_counts()"
      ],
      "execution_count": 9,
      "outputs": [
        {
          "output_type": "execute_result",
          "data": {
            "text/plain": [
              "1    500\n",
              "0    500\n",
              "Name: TARGET CLASS, dtype: int64"
            ]
          },
          "metadata": {
            "tags": []
          },
          "execution_count": 9
        }
      ]
    },
    {
      "cell_type": "code",
      "metadata": {
        "colab": {
          "base_uri": "https://localhost:8080/",
          "height": 350
        },
        "id": "rFINLDR1tD9I",
        "outputId": "e75d776e-236b-4185-805e-f8736043f027"
      },
      "source": [
        "sns.countplot(df['TARGET CLASS'])"
      ],
      "execution_count": 10,
      "outputs": [
        {
          "output_type": "stream",
          "text": [
            "/usr/local/lib/python3.6/dist-packages/seaborn/_decorators.py:43: FutureWarning: Pass the following variable as a keyword arg: x. From version 0.12, the only valid positional argument will be `data`, and passing other arguments without an explicit keyword will result in an error or misinterpretation.\n",
            "  FutureWarning\n"
          ],
          "name": "stderr"
        },
        {
          "output_type": "execute_result",
          "data": {
            "text/plain": [
              "<matplotlib.axes._subplots.AxesSubplot at 0x7f7e268df400>"
            ]
          },
          "metadata": {
            "tags": []
          },
          "execution_count": 10
        },
        {
          "output_type": "display_data",
          "data": {
            "image/png": "[encoded data removed]",
            "text/plain": [
              "<Figure size 432x288 with 1 Axes>"
            ]
          },
          "metadata": {
            "tags": [],
            "needs_background": "light"
          }
        }
      ]
    },
    {
      "cell_type": "markdown",
      "metadata": {
        "id": "KUbsKLjMtJVx"
      },
      "source": [
        "Data is fully balanced"
      ]
    },
    {
      "cell_type": "code",
      "metadata": {
        "id": "Tgx-C6N7rxMr"
      },
      "source": [
        "from sklearn.preprocessing import StandardScaler"
      ],
      "execution_count": 11,
      "outputs": []
    },
    {
      "cell_type": "code",
      "metadata": {
        "id": "9yHGYq0_rxMs"
      },
      "source": [
        "scaler=StandardScaler()"
      ],
      "execution_count": 12,
      "outputs": []
    },
    {
      "cell_type": "code",
      "metadata": {
        "id": "XJvBzAP3rxMs"
      },
      "source": [
        "scaler.fit(df.drop('TARGET CLASS',axis=1))\n",
        "\n",
        "df_scaled=scaler.transform(df.drop('TARGET CLASS',axis=1))"
      ],
      "execution_count": 13,
      "outputs": []
    },
    {
      "cell_type": "code",
      "metadata": {
        "colab": {
          "base_uri": "https://localhost:8080/"
        },
        "id": "FXEeojj2rxMt",
        "outputId": "adff0f57-2797-4652-c0b5-5ec4f7fd9fd1"
      },
      "source": [
        "df_scaled"
      ],
      "execution_count": 14,
      "outputs": [
        {
          "output_type": "execute_result",
          "data": {
            "text/plain": [
              "array([[ 1.56852168, -0.44343461,  1.61980773, ..., -0.93279392,\n",
              "         1.00831307, -1.06962723],\n",
              "       [-0.11237594, -1.05657361,  1.7419175 , ..., -0.46186435,\n",
              "         0.25832069, -1.04154625],\n",
              "       [ 0.66064691, -0.43698145,  0.77579285, ...,  1.14929806,\n",
              "         2.1847836 ,  0.34281129],\n",
              "       ...,\n",
              "       [-0.35889496, -0.97901454,  0.83771499, ..., -1.51472604,\n",
              "        -0.27512225,  0.86428656],\n",
              "       [ 0.27507999, -0.99239881,  0.0303711 , ..., -0.03623294,\n",
              "         0.43668516, -0.21245586],\n",
              "       [ 0.62589594,  0.79510909,  1.12180047, ..., -1.25156478,\n",
              "        -0.60352946, -0.87985868]])"
            ]
          },
          "metadata": {
            "tags": []
          },
          "execution_count": 14
        }
      ]
    },
    {
      "cell_type": "markdown",
      "metadata": {
        "id": "uezV-ADhteDY"
      },
      "source": [
        "We have now noramlized the data to mean of zero and variance of 1"
      ]
    },
    {
      "cell_type": "code",
      "metadata": {
        "id": "OpbrRInXrxMt"
      },
      "source": [
        "dfs=pd.DataFrame(data=df_scaled,columns=df.drop('TARGET CLASS',axis=1).columns)"
      ],
      "execution_count": 15,
      "outputs": []
    },
    {
      "cell_type": "code",
      "metadata": {
        "colab": {
          "base_uri": "https://localhost:8080/",
          "height": 204
        },
        "id": "AdAspqqgrxMt",
        "outputId": "98e4a489-de72-41ca-8f38-7a54ee1ad1fc"
      },
      "source": [
        "dfs.head()"
      ],
      "execution_count": 16,
      "outputs": [
        {
          "output_type": "execute_result",
          "data": {
            "text/html": [
              "<div>\n",
              "<style scoped>\n",
              "    .dataframe tbody tr th:only-of-type {\n",
              "        vertical-align: middle;\n",
              "    }\n",
              "\n",
              "    .dataframe tbody tr th {\n",
              "        vertical-align: top;\n",
              "    }\n",
              "\n",
              "    .dataframe thead th {\n",
              "        text-align: right;\n",
              "    }\n",
              "</style>\n",
              "<table border=\"1\" class=\"dataframe\">\n",
              "  <thead>\n",
              "    <tr style=\"text-align: right;\">\n",
              "      <th></th>\n",
              "      <th>XVPM</th>\n",
              "      <th>GWYH</th>\n",
              "      <th>TRAT</th>\n",
              "      <th>TLLZ</th>\n",
              "      <th>IGGA</th>\n",
              "      <th>HYKR</th>\n",
              "      <th>EDFS</th>\n",
              "      <th>GUUB</th>\n",
              "      <th>MGJM</th>\n",
              "      <th>JHZC</th>\n",
              "    </tr>\n",
              "  </thead>\n",
              "  <tbody>\n",
              "    <tr>\n",
              "      <th>0</th>\n",
              "      <td>1.568522</td>\n",
              "      <td>-0.443435</td>\n",
              "      <td>1.619808</td>\n",
              "      <td>-0.958255</td>\n",
              "      <td>-1.128481</td>\n",
              "      <td>0.138336</td>\n",
              "      <td>0.980493</td>\n",
              "      <td>-0.932794</td>\n",
              "      <td>1.008313</td>\n",
              "      <td>-1.069627</td>\n",
              "    </tr>\n",
              "    <tr>\n",
              "      <th>1</th>\n",
              "      <td>-0.112376</td>\n",
              "      <td>-1.056574</td>\n",
              "      <td>1.741918</td>\n",
              "      <td>-1.504220</td>\n",
              "      <td>0.640009</td>\n",
              "      <td>1.081552</td>\n",
              "      <td>-1.182663</td>\n",
              "      <td>-0.461864</td>\n",
              "      <td>0.258321</td>\n",
              "      <td>-1.041546</td>\n",
              "    </tr>\n",
              "    <tr>\n",
              "      <th>2</th>\n",
              "      <td>0.660647</td>\n",
              "      <td>-0.436981</td>\n",
              "      <td>0.775793</td>\n",
              "      <td>0.213394</td>\n",
              "      <td>-0.053171</td>\n",
              "      <td>2.030872</td>\n",
              "      <td>-1.240707</td>\n",
              "      <td>1.149298</td>\n",
              "      <td>2.184784</td>\n",
              "      <td>0.342811</td>\n",
              "    </tr>\n",
              "    <tr>\n",
              "      <th>3</th>\n",
              "      <td>0.011533</td>\n",
              "      <td>0.191324</td>\n",
              "      <td>-1.433473</td>\n",
              "      <td>-0.100053</td>\n",
              "      <td>-1.507223</td>\n",
              "      <td>-1.753632</td>\n",
              "      <td>-1.183561</td>\n",
              "      <td>-0.888557</td>\n",
              "      <td>0.162310</td>\n",
              "      <td>-0.002793</td>\n",
              "    </tr>\n",
              "    <tr>\n",
              "      <th>4</th>\n",
              "      <td>-0.099059</td>\n",
              "      <td>0.820815</td>\n",
              "      <td>-0.904346</td>\n",
              "      <td>1.609015</td>\n",
              "      <td>-0.282065</td>\n",
              "      <td>-0.365099</td>\n",
              "      <td>-1.095644</td>\n",
              "      <td>0.391419</td>\n",
              "      <td>-1.365603</td>\n",
              "      <td>0.787762</td>\n",
              "    </tr>\n",
              "  </tbody>\n",
              "</table>\n",
              "</div>"
            ],
            "text/plain": [
              "       XVPM      GWYH      TRAT  ...      GUUB      MGJM      JHZC\n",
              "0  1.568522 -0.443435  1.619808  ... -0.932794  1.008313 -1.069627\n",
              "1 -0.112376 -1.056574  1.741918  ... -0.461864  0.258321 -1.041546\n",
              "2  0.660647 -0.436981  0.775793  ...  1.149298  2.184784  0.342811\n",
              "3  0.011533  0.191324 -1.433473  ... -0.888557  0.162310 -0.002793\n",
              "4 -0.099059  0.820815 -0.904346  ...  0.391419 -1.365603  0.787762\n",
              "\n",
              "[5 rows x 10 columns]"
            ]
          },
          "metadata": {
            "tags": []
          },
          "execution_count": 16
        }
      ]
    },
    {
      "cell_type": "markdown",
      "metadata": {
        "id": "EYUWLo4Yt3_p"
      },
      "source": [
        "This is now the normalized data frame"
      ]
    },
    {
      "cell_type": "code",
      "metadata": {
        "colab": {
          "base_uri": "https://localhost:8080/",
          "height": 317
        },
        "id": "FC6e4L1prxMu",
        "outputId": "9ed3c12f-a85e-450e-8613-9f1e6f2740a8"
      },
      "source": [
        "dfs.describe()"
      ],
      "execution_count": 17,
      "outputs": [
        {
          "output_type": "execute_result",
          "data": {
            "text/html": [
              "<div>\n",
              "<style scoped>\n",
              "    .dataframe tbody tr th:only-of-type {\n",
              "        vertical-align: middle;\n",
              "    }\n",
              "\n",
              "    .dataframe tbody tr th {\n",
              "        vertical-align: top;\n",
              "    }\n",
              "\n",
              "    .dataframe thead th {\n",
              "        text-align: right;\n",
              "    }\n",
              "</style>\n",
              "<table border=\"1\" class=\"dataframe\">\n",
              "  <thead>\n",
              "    <tr style=\"text-align: right;\">\n",
              "      <th></th>\n",
              "      <th>XVPM</th>\n",
              "      <th>GWYH</th>\n",
              "      <th>TRAT</th>\n",
              "      <th>TLLZ</th>\n",
              "      <th>IGGA</th>\n",
              "      <th>HYKR</th>\n",
              "      <th>EDFS</th>\n",
              "      <th>GUUB</th>\n",
              "      <th>MGJM</th>\n",
              "      <th>JHZC</th>\n",
              "    </tr>\n",
              "  </thead>\n",
              "  <tbody>\n",
              "    <tr>\n",
              "      <th>count</th>\n",
              "      <td>1.000000e+03</td>\n",
              "      <td>1.000000e+03</td>\n",
              "      <td>1.000000e+03</td>\n",
              "      <td>1.000000e+03</td>\n",
              "      <td>1.000000e+03</td>\n",
              "      <td>1.000000e+03</td>\n",
              "      <td>1.000000e+03</td>\n",
              "      <td>1.000000e+03</td>\n",
              "      <td>1.000000e+03</td>\n",
              "      <td>1.000000e+03</td>\n",
              "    </tr>\n",
              "    <tr>\n",
              "      <th>mean</th>\n",
              "      <td>1.187939e-17</td>\n",
              "      <td>1.662004e-16</td>\n",
              "      <td>7.993606e-18</td>\n",
              "      <td>1.694200e-16</td>\n",
              "      <td>-1.438849e-16</td>\n",
              "      <td>-2.786660e-16</td>\n",
              "      <td>-1.606493e-16</td>\n",
              "      <td>-7.838175e-17</td>\n",
              "      <td>-5.010437e-16</td>\n",
              "      <td>2.364775e-17</td>\n",
              "    </tr>\n",
              "    <tr>\n",
              "      <th>std</th>\n",
              "      <td>1.000500e+00</td>\n",
              "      <td>1.000500e+00</td>\n",
              "      <td>1.000500e+00</td>\n",
              "      <td>1.000500e+00</td>\n",
              "      <td>1.000500e+00</td>\n",
              "      <td>1.000500e+00</td>\n",
              "      <td>1.000500e+00</td>\n",
              "      <td>1.000500e+00</td>\n",
              "      <td>1.000500e+00</td>\n",
              "      <td>1.000500e+00</td>\n",
              "    </tr>\n",
              "    <tr>\n",
              "      <th>min</th>\n",
              "      <td>-2.788339e+00</td>\n",
              "      <td>-2.474303e+00</td>\n",
              "      <td>-2.340083e+00</td>\n",
              "      <td>-3.409927e+00</td>\n",
              "      <td>-2.668575e+00</td>\n",
              "      <td>-3.087121e+00</td>\n",
              "      <td>-2.555607e+00</td>\n",
              "      <td>-2.215822e+00</td>\n",
              "      <td>-2.648319e+00</td>\n",
              "      <td>-2.503543e+00</td>\n",
              "    </tr>\n",
              "    <tr>\n",
              "      <th>25%</th>\n",
              "      <td>-7.757873e-01</td>\n",
              "      <td>-7.574735e-01</td>\n",
              "      <td>-7.293713e-01</td>\n",
              "      <td>-6.538711e-01</td>\n",
              "      <td>-6.936419e-01</td>\n",
              "      <td>-6.718168e-01</td>\n",
              "      <td>-7.168625e-01</td>\n",
              "      <td>-7.266069e-01</td>\n",
              "      <td>-7.136450e-01</td>\n",
              "      <td>-6.921254e-01</td>\n",
              "    </tr>\n",
              "    <tr>\n",
              "      <th>50%</th>\n",
              "      <td>-2.472083e-02</td>\n",
              "      <td>-3.442255e-02</td>\n",
              "      <td>-1.072910e-02</td>\n",
              "      <td>3.566665e-02</td>\n",
              "      <td>-3.590482e-03</td>\n",
              "      <td>2.911148e-02</td>\n",
              "      <td>8.155695e-03</td>\n",
              "      <td>-8.463946e-02</td>\n",
              "      <td>2.489807e-02</td>\n",
              "      <td>-1.931429e-02</td>\n",
              "    </tr>\n",
              "    <tr>\n",
              "      <th>75%</th>\n",
              "      <td>7.308466e-01</td>\n",
              "      <td>7.235137e-01</td>\n",
              "      <td>7.215308e-01</td>\n",
              "      <td>7.386505e-01</td>\n",
              "      <td>6.998930e-01</td>\n",
              "      <td>6.919471e-01</td>\n",
              "      <td>7.032086e-01</td>\n",
              "      <td>6.650219e-01</td>\n",
              "      <td>6.978394e-01</td>\n",
              "      <td>7.253420e-01</td>\n",
              "    </tr>\n",
              "    <tr>\n",
              "      <th>max</th>\n",
              "      <td>2.863927e+00</td>\n",
              "      <td>3.009948e+00</td>\n",
              "      <td>2.579241e+00</td>\n",
              "      <td>2.451642e+00</td>\n",
              "      <td>2.465393e+00</td>\n",
              "      <td>2.518753e+00</td>\n",
              "      <td>2.732696e+00</td>\n",
              "      <td>3.198000e+00</td>\n",
              "      <td>3.060964e+00</td>\n",
              "      <td>2.881896e+00</td>\n",
              "    </tr>\n",
              "  </tbody>\n",
              "</table>\n",
              "</div>"
            ],
            "text/plain": [
              "               XVPM          GWYH  ...          MGJM          JHZC\n",
              "count  1.000000e+03  1.000000e+03  ...  1.000000e+03  1.000000e+03\n",
              "mean   1.187939e-17  1.662004e-16  ... -5.010437e-16  2.364775e-17\n",
              "std    1.000500e+00  1.000500e+00  ...  1.000500e+00  1.000500e+00\n",
              "min   -2.788339e+00 -2.474303e+00  ... -2.648319e+00 -2.503543e+00\n",
              "25%   -7.757873e-01 -7.574735e-01  ... -7.136450e-01 -6.921254e-01\n",
              "50%   -2.472083e-02 -3.442255e-02  ...  2.489807e-02 -1.931429e-02\n",
              "75%    7.308466e-01  7.235137e-01  ...  6.978394e-01  7.253420e-01\n",
              "max    2.863927e+00  3.009948e+00  ...  3.060964e+00  2.881896e+00\n",
              "\n",
              "[8 rows x 10 columns]"
            ]
          },
          "metadata": {
            "tags": []
          },
          "execution_count": 17
        }
      ]
    },
    {
      "cell_type": "code",
      "metadata": {
        "id": "76uFPQIrrxMu"
      },
      "source": [
        "from sklearn.neighbors import KNeighborsClassifier"
      ],
      "execution_count": 18,
      "outputs": []
    },
    {
      "cell_type": "code",
      "metadata": {
        "id": "89wwDbLUrxMv"
      },
      "source": [
        "model1=KNeighborsClassifier(n_neighbors=5)"
      ],
      "execution_count": 22,
      "outputs": []
    },
    {
      "cell_type": "markdown",
      "metadata": {
        "id": "YNq15dgXuCFH"
      },
      "source": [
        "n_neighbors is a hyper parameter\r\n",
        "To classify a point it will average the nearest five points"
      ]
    },
    {
      "cell_type": "code",
      "metadata": {
        "id": "cx1kac7hrxMv"
      },
      "source": [
        "from sklearn.model_selection import train_test_split"
      ],
      "execution_count": 19,
      "outputs": []
    },
    {
      "cell_type": "code",
      "metadata": {
        "id": "m9GH6qqxrxMv"
      },
      "source": [
        "X_train, X_test, y_train, y_test = train_test_split(dfs, df['TARGET CLASS'], test_size=0.3, random_state=101)"
      ],
      "execution_count": 20,
      "outputs": []
    },
    {
      "cell_type": "markdown",
      "metadata": {
        "id": "E16mk9jFuQKn"
      },
      "source": [
        "Test and train split"
      ]
    },
    {
      "cell_type": "code",
      "metadata": {
        "colab": {
          "base_uri": "https://localhost:8080/"
        },
        "id": "jYDiP2CTrxMw",
        "outputId": "0e3eccce-fa22-40dd-8831-9f4f0f2ff246"
      },
      "source": [
        "model1.fit(X_train,y_train)"
      ],
      "execution_count": 23,
      "outputs": [
        {
          "output_type": "execute_result",
          "data": {
            "text/plain": [
              "KNeighborsClassifier(algorithm='auto', leaf_size=30, metric='minkowski',\n",
              "                     metric_params=None, n_jobs=None, n_neighbors=5, p=2,\n",
              "                     weights='uniform')"
            ]
          },
          "metadata": {
            "tags": []
          },
          "execution_count": 23
        }
      ]
    },
    {
      "cell_type": "code",
      "metadata": {
        "id": "_2ND_AiZrxMw"
      },
      "source": [
        "predict1=model1.predict(X_test)"
      ],
      "execution_count": 24,
      "outputs": []
    },
    {
      "cell_type": "code",
      "metadata": {
        "id": "bmMXgVairxMw"
      },
      "source": [
        "from sklearn.metrics import mean_squared_error,confusion_matrix,classification_report"
      ],
      "execution_count": 25,
      "outputs": []
    },
    {
      "cell_type": "code",
      "metadata": {
        "colab": {
          "base_uri": "https://localhost:8080/"
        },
        "id": "FRM9ukSUrxMx",
        "outputId": "44a0d612-6f7f-46d2-d6d5-f45389c7dec7"
      },
      "source": [
        "print(classification_report(y_test,predict1))"
      ],
      "execution_count": 26,
      "outputs": [
        {
          "output_type": "stream",
          "text": [
            "              precision    recall  f1-score   support\n",
            "\n",
            "           0       0.79      0.80      0.80       152\n",
            "           1       0.79      0.78      0.79       148\n",
            "\n",
            "    accuracy                           0.79       300\n",
            "   macro avg       0.79      0.79      0.79       300\n",
            "weighted avg       0.79      0.79      0.79       300\n",
            "\n"
          ],
          "name": "stdout"
        }
      ]
    },
    {
      "cell_type": "markdown",
      "metadata": {
        "id": "yAOU6OEzuWxH"
      },
      "source": [
        "Not bad we have 79% accuracy"
      ]
    },
    {
      "cell_type": "code",
      "metadata": {
        "id": "5FUE7qZarxMx"
      },
      "source": [
        "error=[]\n",
        "for i in range(1,50):\n",
        "    modeli=KNeighborsClassifier(n_neighbors=i)\n",
        "    modeli.fit(X_train,y_train)\n",
        "    predicti=modeli.predict(X_test)\n",
        "    error.append(np.sqrt(mean_squared_error(y_test,predicti)))"
      ],
      "execution_count": 27,
      "outputs": []
    },
    {
      "cell_type": "markdown",
      "metadata": {
        "id": "qYbfnfdUubqW"
      },
      "source": [
        "Now lets try to optimze the hyper parameter using the code above\r\n",
        "WE are doing a sweep of n_neigbbors"
      ]
    },
    {
      "cell_type": "code",
      "metadata": {
        "colab": {
          "base_uri": "https://localhost:8080/",
          "height": 337
        },
        "id": "d2wGcRmWrxMx",
        "outputId": "63c433b5-bb26-4289-8418-22dbf94e495a"
      },
      "source": [
        "plt.figure(figsize=(10,5))\n",
        "plt.plot(range(1,50),error,color='blue',marker='+',linestyle='dashed')"
      ],
      "execution_count": 28,
      "outputs": [
        {
          "output_type": "execute_result",
          "data": {
            "text/plain": [
              "[<matplotlib.lines.Line2D at 0x7f7e225ae518>]"
            ]
          },
          "metadata": {
            "tags": []
          },
          "execution_count": 28
        },
        {
          "output_type": "display_data",
          "data": {
            "image/png": "[encoded data removed]",
            "text/plain": [
              "<Figure size 720x360 with 1 Axes>"
            ]
          },
          "metadata": {
            "tags": [],
            "needs_background": "light"
          }
        }
      ]
    },
    {
      "cell_type": "markdown",
      "metadata": {
        "id": "nsRpVk52xhmX"
      },
      "source": [
        "Lowest mse error is at 39 neighbors"
      ]
    },
    {
      "cell_type": "code",
      "metadata": {
        "colab": {
          "base_uri": "https://localhost:8080/"
        },
        "id": "41oLANNCrxMy",
        "outputId": "c869d74f-f294-4738-8cae-74bb831108c0"
      },
      "source": [
        "model39=KNeighborsClassifier(n_neighbors=39)\n",
        "modeli.fit(X_train,y_train)\n",
        "predict39=modeli.predict(X_test)\n",
        "print(classification_report(y_test,predict39))\n",
        "    "
      ],
      "execution_count": 29,
      "outputs": [
        {
          "output_type": "stream",
          "text": [
            "              precision    recall  f1-score   support\n",
            "\n",
            "           0       0.84      0.82      0.83       152\n",
            "           1       0.82      0.84      0.83       148\n",
            "\n",
            "    accuracy                           0.83       300\n",
            "   macro avg       0.83      0.83      0.83       300\n",
            "weighted avg       0.83      0.83      0.83       300\n",
            "\n"
          ],
          "name": "stdout"
        }
      ]
    },
    {
      "cell_type": "markdown",
      "metadata": {
        "id": "vOvqQ62curuq"
      },
      "source": [
        "83% accuracy achieved"
      ]
    },
    {
      "cell_type": "code",
      "metadata": {
        "id": "firWd8lrrxMy"
      },
      "source": [
        "from sklearn.linear_model import LogisticRegression"
      ],
      "execution_count": 30,
      "outputs": []
    },
    {
      "cell_type": "code",
      "metadata": {
        "id": "f4-vfr_vrxMy"
      },
      "source": [
        "modeLG=LogisticRegression()"
      ],
      "execution_count": 31,
      "outputs": []
    },
    {
      "cell_type": "code",
      "metadata": {
        "colab": {
          "base_uri": "https://localhost:8080/"
        },
        "id": "e820HaZSrxMz",
        "outputId": "9d55aa48-c64d-4d4d-cfc6-51c6099f5674"
      },
      "source": [
        "modeLG.fit(X_train,y_train)"
      ],
      "execution_count": 32,
      "outputs": [
        {
          "output_type": "execute_result",
          "data": {
            "text/plain": [
              "LogisticRegression(C=1.0, class_weight=None, dual=False, fit_intercept=True,\n",
              "                   intercept_scaling=1, l1_ratio=None, max_iter=100,\n",
              "                   multi_class='auto', n_jobs=None, penalty='l2',\n",
              "                   random_state=None, solver='lbfgs', tol=0.0001, verbose=0,\n",
              "                   warm_start=False)"
            ]
          },
          "metadata": {
            "tags": []
          },
          "execution_count": 32
        }
      ]
    },
    {
      "cell_type": "code",
      "metadata": {
        "id": "rKh5CzlcrxMz"
      },
      "source": [
        "predictlg=modeLG.predict(X_test)"
      ],
      "execution_count": 33,
      "outputs": []
    },
    {
      "cell_type": "code",
      "metadata": {
        "colab": {
          "base_uri": "https://localhost:8080/"
        },
        "id": "h1fNTabYrxMz",
        "outputId": "37395001-df7e-465b-ddf0-554c8697ded1"
      },
      "source": [
        "print(classification_report(y_test,predictlg))"
      ],
      "execution_count": 34,
      "outputs": [
        {
          "output_type": "stream",
          "text": [
            "              precision    recall  f1-score   support\n",
            "\n",
            "           0       0.83      0.84      0.84       152\n",
            "           1       0.84      0.82      0.83       148\n",
            "\n",
            "    accuracy                           0.83       300\n",
            "   macro avg       0.83      0.83      0.83       300\n",
            "weighted avg       0.83      0.83      0.83       300\n",
            "\n"
          ],
          "name": "stdout"
        }
      ]
    },
    {
      "cell_type": "markdown",
      "metadata": {
        "id": "W8AfQdvLvbN3"
      },
      "source": [
        "LG also gives 83% accuracy "
      ]
    },
    {
      "cell_type": "code",
      "metadata": {
        "id": "_G1v2xTQrxM0"
      },
      "source": [
        ""
      ],
      "execution_count": null,
      "outputs": []
    }
  ]
}